{
 "cells": [
  {
   "cell_type": "code",
   "execution_count": null,
   "id": "d408a770-7328-4909-bccb-5311ec30e91f",
   "metadata": {},
   "outputs": [],
   "source": [
    "# see https://twstock.readthedocs.io/zh-tw/latest/"
   ]
  },
  {
   "cell_type": "code",
   "execution_count": null,
   "id": "be8456cc-fdc0-41bc-937d-5d02e0556374",
   "metadata": {},
   "outputs": [],
   "source": [
    "!pip install flit twstock lxml"
   ]
  },
  {
   "cell_type": "code",
   "execution_count": null,
   "id": "7b9794d3-f5d5-4be5-a39e-76da32198ee3",
   "metadata": {},
   "outputs": [],
   "source": [
    "import twstock"
   ]
  },
  {
   "cell_type": "code",
   "execution_count": null,
   "id": "3ad84531-64a9-4639-8c4b-37750257f720",
   "metadata": {},
   "outputs": [],
   "source": [
    "stock = twstock.Stock('2331')"
   ]
  },
  {
   "cell_type": "code",
   "execution_count": null,
   "id": "eeec3b3a-bef5-47e9-ab94-fbbc33e24d41",
   "metadata": {},
   "outputs": [],
   "source": [
    "bfp = twstock.BestFourPoint(stock)"
   ]
  },
  {
   "cell_type": "code",
   "execution_count": null,
   "id": "2b8c23e7-9c9b-480b-9a38-5263041d9815",
   "metadata": {},
   "outputs": [],
   "source": [
    "bfp.best_four_point_to_buy()   # 判斷是否為四大買點"
   ]
  },
  {
   "cell_type": "code",
   "execution_count": null,
   "id": "b7b2b2c0-b749-4532-9589-2b401d05864a",
   "metadata": {},
   "outputs": [],
   "source": [
    "bfp.best_four_point_to_sell()  # 判斷是否為四大賣點"
   ]
  },
  {
   "cell_type": "code",
   "execution_count": null,
   "id": "141818ca-c32e-4073-96b3-2316c7286ba0",
   "metadata": {},
   "outputs": [],
   "source": [
    "bfp.best_four_point()          # 綜合判斷\n"
   ]
  },
  {
   "cell_type": "code",
   "execution_count": null,
   "id": "1692014e-9b00-4f2c-9df6-fdb2adc7bc69",
   "metadata": {},
   "outputs": [],
   "source": []
  }
 ],
 "metadata": {
  "kernelspec": {
   "display_name": "Python 3 (ipykernel)",
   "language": "python",
   "name": "python3"
  },
  "language_info": {
   "codemirror_mode": {
    "name": "ipython",
    "version": 3
   },
   "file_extension": ".py",
   "mimetype": "text/x-python",
   "name": "python",
   "nbconvert_exporter": "python",
   "pygments_lexer": "ipython3",
   "version": "3.12.7"
  }
 },
 "nbformat": 4,
 "nbformat_minor": 5
}
