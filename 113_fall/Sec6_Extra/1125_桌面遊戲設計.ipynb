{
 "cells": [
  {
   "cell_type": "code",
   "execution_count": 4,
   "id": "4aa16e4b-156d-4e4a-923b-41614eb9988c",
   "metadata": {},
   "outputs": [],
   "source": [
    "# see https://github.com/pyglet/pyglet \n",
    "# and see https://pyglet.readthedocs.io/en/latest/programming_guide/installation.html"
   ]
  },
  {
   "cell_type": "code",
   "execution_count": 3,
   "id": "b26dd6a1-0119-4aed-9679-0cb4de1f2aa1",
   "metadata": {},
   "outputs": [
    {
     "name": "stdout",
     "output_type": "stream",
     "text": [
      "Collecting pyglet\n",
      "  Downloading pyglet-2.0.18-py3-none-any.whl.metadata (7.9 kB)\n",
      "Downloading pyglet-2.0.18-py3-none-any.whl (941 kB)\n",
      "\u001b[2K   \u001b[38;2;114;156;31m━━━━━━━━━━━━━━━━━━━━━━━━━━━━━━━━━━━━━━━\u001b[0m \u001b[32m941.1/941.1 kB\u001b[0m \u001b[31m779.4 kB/s\u001b[0m eta \u001b[36m0:00:00\u001b[0m1m752.2 kB/s\u001b[0m eta \u001b[36m0:00:01\u001b[0m\n",
      "\u001b[?25hInstalling collected packages: pyglet\n",
      "Successfully installed pyglet-2.0.18\n"
     ]
    }
   ],
   "source": [
    "!pip install --upgrade pyglet"
   ]
  },
  {
   "cell_type": "code",
   "execution_count": 5,
   "id": "45b593a7-b09f-47e1-b232-1b1c2b828dad",
   "metadata": {},
   "outputs": [
    {
     "name": "stderr",
     "output_type": "stream",
     "text": [
      "2024-11-28 17:06:35.208 python[92529:3938038] +[IMKClient subclass]: chose IMKClient_Modern\n",
      "2024-11-28 17:06:35.344 python[92529:3938038] +[IMKInputSession subclass]: chose IMKInputSession_Modern\n"
     ]
    }
   ],
   "source": [
    "import pyglet\n",
    "\n",
    "window = pyglet.window.Window()\n",
    "\n",
    "@window.event\n",
    "def on_key_press(symbol, modifiers):\n",
    "    print('A key was pressed')\n",
    "\n",
    "@window.event\n",
    "def on_draw():\n",
    "    window.clear()\n",
    "\n",
    "pyglet.app.run()"
   ]
  },
  {
   "cell_type": "code",
   "execution_count": null,
   "id": "3383c90d-6502-481a-a94c-528f16fac1bc",
   "metadata": {},
   "outputs": [],
   "source": []
  }
 ],
 "metadata": {
  "kernelspec": {
   "display_name": "Python 3 (ipykernel)",
   "language": "python",
   "name": "python3"
  },
  "language_info": {
   "codemirror_mode": {
    "name": "ipython",
    "version": 3
   },
   "file_extension": ".py",
   "mimetype": "text/x-python",
   "name": "python",
   "nbconvert_exporter": "python",
   "pygments_lexer": "ipython3",
   "version": "3.12.7"
  }
 },
 "nbformat": 4,
 "nbformat_minor": 5
}
