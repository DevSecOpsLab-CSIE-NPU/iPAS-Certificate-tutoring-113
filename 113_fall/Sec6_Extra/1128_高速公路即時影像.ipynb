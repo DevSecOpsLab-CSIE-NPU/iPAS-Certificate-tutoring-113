{
 "cells": [
  {
   "cell_type": "code",
   "execution_count": null,
   "id": "b49558a0-5b2f-4352-91ec-0f9f7c2ff4d4",
   "metadata": {},
   "outputs": [],
   "source": [
    "!pip install -U opencv-python"
   ]
  },
  {
   "cell_type": "code",
   "execution_count": null,
   "id": "c6d3d7ae-4f26-4663-ade0-70a1745c919a",
   "metadata": {},
   "outputs": [],
   "source": [
    "import cv2\n",
    "# 來源串流網址\n",
    "url = 'https://cctvc.freeway.gov.tw/abs2mjpg/bmjpg?camera=407'\n",
    "cap = cv2.VideoCapture(url)             # 讀取來源\n",
    "\n",
    "if not cap.isOpened():\n",
    "    print(\"Cannot open camera\")\n",
    "    exit()\n",
    "while True:\n",
    "    ret, frame = cap.read()             # 讀取影片的每一幀\n",
    "    if not ret:\n",
    "        print(\"Cannot receive frame\")   # 如果讀取錯誤，印出訊息\n",
    "        cap = cv2.VideoCapture(url)     # 有時候串流間隔時間較久會中斷，中斷時重新讀取\n",
    "        continue\n",
    "    cv2.imshow('oxxostudio', frame)     # 如果讀取成功，顯示該幀的畫面\n",
    "    if cv2.waitKey(1) == ord('q'):      # 每一毫秒更新一次，直到按下 q 結束\n",
    "        break\n",
    "cap.release()                           # 所有作業都完成後，釋放資源\n",
    "cv2.destroyAllWindows()                 # 結束所有視窗"
   ]
  },
  {
   "cell_type": "code",
   "execution_count": null,
   "id": "d38aa2aa-8b3f-49c7-ae82-8a812bd920d1",
   "metadata": {},
   "outputs": [],
   "source": []
  }
 ],
 "metadata": {
  "kernelspec": {
   "display_name": "Python 3 (ipykernel)",
   "language": "python",
   "name": "python3"
  },
  "language_info": {
   "codemirror_mode": {
    "name": "ipython",
    "version": 3
   },
   "file_extension": ".py",
   "mimetype": "text/x-python",
   "name": "python",
   "nbconvert_exporter": "python",
   "pygments_lexer": "ipython3",
   "version": "3.12.7"
  }
 },
 "nbformat": 4,
 "nbformat_minor": 5
}
